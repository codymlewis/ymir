{
 "cells": [
  {
   "cell_type": "code",
   "execution_count": null,
   "metadata": {},
   "outputs": [],
   "source": [
    "import tensorflow as tf\n",
    "import numpy as np\n",
    "import tenjin\n",
    "from tqdm import trange\n",
    "\n",
    "import ymir\n",
    "\n",
    "\n",
    "def create_model(input_shape, output_shape, lr=0.1):\n",
    "    inputs = tf.keras.layers.Input(shape=input_shape)\n",
    "    x = tf.keras.layers.Flatten()(inputs)\n",
    "    x = tf.keras.layers.Dense(300, activation=\"relu\")(x)\n",
    "    x = tf.keras.layers.Dense(100, activation=\"relu\")(x)\n",
    "    outputs = tf.keras.layers.Dense(output_shape, activation=\"softmax\")(x)\n",
    "    model = tf.keras.models.Model(inputs=inputs, outputs=outputs)\n",
    "    opt = tf.keras.optimizers.SGD(learning_rate=lr)\n",
    "    loss_fn = tf.keras.losses.SparseCategoricalCrossentropy()\n",
    "    model.compile(loss=loss_fn, optimizer=opt, metrics=['accuracy'])\n",
    "    return model\n",
    "\n",
    "\n",
    "if __name__ == \"__main__\":\n",
    "    print(\"Setting up the system...\")\n",
    "    num_clients = 10\n",
    "    rng = np.random.default_rng(0)\n",
    "    # Setup the dataset\n",
    "    dataset = ymir.mp.datasets.Dataset(*tenjin.load('mnist'))\n",
    "    batch_sizes = [32 for _ in range(num_clients)]\n",
    "    data = dataset.fed_split(batch_sizes, ymir.mp.distributions.lda, rng)\n",
    "    train_eval = dataset.get_iter(\"train\", 10_000, rng=rng)\n",
    "    test_eval = dataset.get_iter(\"test\", 10_000, rng=rng)\n",
    "    # Setup the network\n",
    "    network = ymir.mp.network.Network()\n",
    "    for d in data:\n",
    "        network.add_client(ymir.regiment.ditto.Scout(create_model(dataset.input_shape, dataset.classes), d, 1, test_data=test_eval))\n",
    "    learner = ymir.garrison.fedavg.Captain(create_model(dataset.input_shape, dataset.classes, lr=1), network, rng)\n",
    "    print(\"Done, beginning training.\")\n",
    "    # Train/eval loop.\n",
    "    for r in (pbar := trange(5000)):\n",
    "        loss = learner.step()\n",
    "        if r % 10 == 0:\n",
    "            metrics = learner.model.test_on_batch(*next(test_eval), return_dict=True)\n",
    "            pbar.set_postfix(metrics)"
   ]
  }
 ],
 "metadata": {
  "language_info": {
   "name": "python"
  },
  "orig_nbformat": 4
 },
 "nbformat": 4,
 "nbformat_minor": 2
}
