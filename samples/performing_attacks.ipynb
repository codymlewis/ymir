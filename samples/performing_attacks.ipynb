{
 "cells": [
  {
   "cell_type": "markdown",
   "metadata": {},
   "source": [
    "# Performing Attacks\n",
    "\n",
    "In this notebook we will look at performing some client-side attacks on a federated learning system.\n",
    "\n",
    "We will first make sure install and import the required libraries."
   ]
  },
  {
   "cell_type": "code",
   "execution_count": 1,
   "metadata": {},
   "outputs": [
    {
     "name": "stderr",
     "output_type": "stream",
     "text": [
      "2022-04-20 13:25:58.552989: W tensorflow/stream_executor/platform/default/dso_loader.cc:64] Could not load dynamic library 'libcudart.so.11.0'; dlerror: libcudart.so.11.0: cannot open shared object file: No such file or directory\n",
      "2022-04-20 13:25:58.553033: I tensorflow/stream_executor/cuda/cudart_stub.cc:29] Ignore above cudart dlerror if you do not have a GPU set up on your machine.\n"
     ]
    }
   ],
   "source": [
    "#%pip install -U git+https://github.com/codymlewis/ymir.git git+https://github.com/codymlewis/tenjin.git tqdm\n",
    "\n",
    "from functools import partial\n",
    "\n",
    "import tensorflow as tf\n",
    "import numpy as np\n",
    "import tenjin\n",
    "from tqdm.notebook import trange\n",
    "\n",
    "import ymir"
   ]
  },
  {
   "cell_type": "markdown",
   "metadata": {},
   "source": [
    "We will next, write a function for created a LeNET-300-100 model, and set up our datasets for each client."
   ]
  },
  {
   "cell_type": "code",
   "execution_count": 2,
   "metadata": {},
   "outputs": [],
   "source": [
    "def create_model(input_shape, output_shape, lr=0.1):\n",
    "    inputs = tf.keras.layers.Input(shape=input_shape)\n",
    "    x = tf.keras.layers.Flatten()(inputs)\n",
    "    x = tf.keras.layers.Dense(300, activation=\"relu\")(x)\n",
    "    x = tf.keras.layers.Dense(100, activation=\"relu\")(x)\n",
    "    outputs = tf.keras.layers.Dense(output_shape, activation=\"softmax\")(x)\n",
    "    model = tf.keras.models.Model(inputs=inputs, outputs=outputs)\n",
    "    opt = tf.keras.optimizers.SGD(learning_rate=lr)\n",
    "    loss_fn = tf.keras.losses.SparseCategoricalCrossentropy()\n",
    "    model.compile(loss=loss_fn, optimizer=opt, metrics=['accuracy'])\n",
    "    return model\n",
    "\n",
    "num_clients = 10\n",
    "dataset = ymir.mp.datasets.Dataset(*tenjin.load('mnist'))\n",
    "batch_sizes = [32 for _ in range(num_clients)]\n",
    "data = dataset.fed_split(batch_sizes, ymir.mp.distributions.lda)\n",
    "train_eval = dataset.get_iter(\"train\", 10_000)\n",
    "test_eval = dataset.get_iter(\"test\", 10_000)"
   ]
  },
  {
   "cell_type": "markdown",
   "metadata": {},
   "source": [
    "We will also construct the network and global model as normal."
   ]
  },
  {
   "cell_type": "code",
   "execution_count": 3,
   "metadata": {},
   "outputs": [
    {
     "name": "stderr",
     "output_type": "stream",
     "text": [
      "2022-04-20 13:26:03.005958: W tensorflow/stream_executor/platform/default/dso_loader.cc:64] Could not load dynamic library 'libcuda.so.1'; dlerror: libcuda.so.1: cannot open shared object file: No such file or directory\n",
      "2022-04-20 13:26:03.005984: W tensorflow/stream_executor/cuda/cuda_driver.cc:269] failed call to cuInit: UNKNOWN ERROR (303)\n",
      "2022-04-20 13:26:03.006000: I tensorflow/stream_executor/cuda/cuda_diagnostics.cc:156] kernel driver does not appear to be running on this host (cmla): /proc/driver/nvidia/version does not exist\n",
      "2022-04-20 13:26:03.006167: I tensorflow/core/platform/cpu_feature_guard.cc:151] This TensorFlow binary is optimized with oneAPI Deep Neural Network Library (oneDNN) to use the following CPU instructions in performance-critical operations:  AVX2 FMA\n",
      "To enable them in other operations, rebuild TensorFlow with the appropriate compiler flags.\n"
     ]
    }
   ],
   "source": [
    "network = ymir.mp.network.Network()\n",
    "for d in data:\n",
    "    network.add_client(ymir.regiment.Scout(create_model(dataset.input_shape, dataset.classes), d, 1, test_data=test_eval))\n",
    "learner = ymir.garrison.fedavg.Captain(create_model(dataset.input_shape, dataset.classes, lr=1), network)"
   ]
  },
  {
   "cell_type": "markdown",
   "metadata": {},
   "source": [
    "Now, before we start training, we will want go through and convert some of our clients into adversaries. Let's look at a few different\n",
    "types of attacks."
   ]
  },
  {
   "cell_type": "markdown",
   "metadata": {},
   "source": [
    "## Backdoor\n",
    "\n",
    "We will look at model replacement backdoor attack, we will first setup some variables for the attack, then convert two clients into adversaries."
   ]
  },
  {
   "cell_type": "code",
   "execution_count": 4,
   "metadata": {},
   "outputs": [],
   "source": [
    "attack_from, attack_to = 0, 1\n",
    "num_adversaries = 2\n",
    "\n",
    "for i in range(num_adversaries):\n",
    "    ymir.fritz.backdoor.convert(network.clients[i], attack_from, attack_to, np.ones((5, 5, 1)))\n",
    "    ymir.fritz.scaler.convert(network.clients[i], num_clients - num_adversaries)"
   ]
  },
  {
   "cell_type": "markdown",
   "metadata": {},
   "source": [
    "We will next create a dataset to evaluate the effectiveness of the attack."
   ]
  },
  {
   "cell_type": "code",
   "execution_count": 5,
   "metadata": {},
   "outputs": [],
   "source": [
    "backdoor_eval = dataset.get_iter(\"test\").filter(lambda y: y == attack_from).map(\n",
    "    partial(ymir.fritz.backdoor.backdoor_map, attack_from, attack_to, np.ones((5, 5, 1)), no_label=True))"
   ]
  },
  {
   "cell_type": "markdown",
   "metadata": {},
   "source": [
    "Finally, we perform the training loop as normal, we additionally measure attack success rate (ASR) which measures the rate\n",
    "at which the attack makes the model predict the target class."
   ]
  },
  {
   "cell_type": "code",
   "execution_count": 6,
   "metadata": {},
   "outputs": [
    {
     "data": {
      "application/vnd.jupyter.widget-view+json": {
       "model_id": "23c7691b12f44bf893966046cd066164",
       "version_major": 2,
       "version_minor": 0
      },
      "text/plain": [
       "  0%|          | 0/500 [00:00<?, ?it/s]"
      ]
     },
     "metadata": {},
     "output_type": "display_data"
    },
    {
     "name": "stdout",
     "output_type": "stream",
     "text": [
      "WARNING:tensorflow:5 out of the last 5 calls to <function Scout._step at 0x7f9fd3a569e0> triggered tf.function retracing. Tracing is expensive and the excessive number of tracings could be due to (1) creating @tf.function repeatedly in a loop, (2) passing tensors with different shapes, (3) passing Python objects instead of tensors. For (1), please define your @tf.function outside of the loop. For (2), @tf.function has experimental_relax_shapes=True option that relaxes argument shapes that can avoid unnecessary retracing. For (3), please refer to https://www.tensorflow.org/guide/function#controlling_retracing and https://www.tensorflow.org/api_docs/python/tf/function for  more details.\n",
      "WARNING:tensorflow:6 out of the last 6 calls to <function Scout._step at 0x7f9fc8db9a20> triggered tf.function retracing. Tracing is expensive and the excessive number of tracings could be due to (1) creating @tf.function repeatedly in a loop, (2) passing tensors with different shapes, (3) passing Python objects instead of tensors. For (1), please define your @tf.function outside of the loop. For (2), @tf.function has experimental_relax_shapes=True option that relaxes argument shapes that can avoid unnecessary retracing. For (3), please refer to https://www.tensorflow.org/guide/function#controlling_retracing and https://www.tensorflow.org/api_docs/python/tf/function for  more details.\n"
     ]
    }
   ],
   "source": [
    "for r in (pbar := trange(500)):\n",
    "    loss = learner.step()\n",
    "    if r % 10 == 0:\n",
    "        metrics = learner.model.test_on_batch(*next(test_eval), return_dict=True)\n",
    "        metrics['ASR'] = np.mean(tf.argmax(learner.model(next(backdoor_eval)[0]), axis=1).numpy() == 1)\n",
    "        pbar.set_postfix(metrics)"
   ]
  },
  {
   "cell_type": "markdown",
   "metadata": {},
   "source": [
    "## Label flipping\n",
    "\n",
    "The process of label flipping is reasonably similar."
   ]
  },
  {
   "cell_type": "code",
   "execution_count": 7,
   "metadata": {},
   "outputs": [
    {
     "data": {
      "application/vnd.jupyter.widget-view+json": {
       "model_id": "4e27c320345e4b908d6edd0734954701",
       "version_major": 2,
       "version_minor": 0
      },
      "text/plain": [
       "  0%|          | 0/500 [00:00<?, ?it/s]"
      ]
     },
     "metadata": {},
     "output_type": "display_data"
    }
   ],
   "source": [
    "# First reset the network and global model\n",
    "network = ymir.mp.network.Network()\n",
    "for d in data:\n",
    "    network.add_client(ymir.regiment.Scout(create_model(dataset.input_shape, dataset.classes), d, 1, test_data=test_eval))\n",
    "learner = ymir.garrison.fedavg.Captain(create_model(dataset.input_shape, dataset.classes, lr=1), network)\n",
    "# Convert the adversaries\n",
    "for i in range(num_adversaries):\n",
    "    network.clients[i].data = dataset.get_iter(\"train\", batch_sizes[i])\n",
    "    ymir.fritz.labelflipper.convert(network.clients[i], attack_from, attack_to)\n",
    "# Construct a testing dataset\n",
    "labelflipper_eval = dataset.get_iter(\"test\").filter(lambda y: y == attack_from)\n",
    "# Perform the learning loop\n",
    "for r in (pbar := trange(500)):\n",
    "    loss = learner.step()\n",
    "    if r % 10 == 0:\n",
    "        metrics = learner.model.test_on_batch(*next(test_eval), return_dict=True)\n",
    "        metrics['ASR'] = np.mean(tf.argmax(learner.model(next(labelflipper_eval)[0]), axis=1).numpy() == 1)\n",
    "        pbar.set_postfix(metrics)"
   ]
  },
  {
   "cell_type": "markdown",
   "metadata": {},
   "source": [
    "## Free Riding\n",
    "\n",
    "We also follow a similar process for the free riding attack."
   ]
  },
  {
   "cell_type": "code",
   "execution_count": 8,
   "metadata": {},
   "outputs": [
    {
     "data": {
      "application/vnd.jupyter.widget-view+json": {
       "model_id": "38633b2eefde4fa4b900a936fe591a2c",
       "version_major": 2,
       "version_minor": 0
      },
      "text/plain": [
       "  0%|          | 0/500 [00:00<?, ?it/s]"
      ]
     },
     "metadata": {},
     "output_type": "display_data"
    }
   ],
   "source": [
    "# First reset the network and global model\n",
    "network = ymir.mp.network.Network()\n",
    "for d in data:\n",
    "    network.add_client(ymir.regiment.Scout(create_model(dataset.input_shape, dataset.classes), d, 1, test_data=test_eval))\n",
    "learner = ymir.garrison.fedavg.Captain(create_model(dataset.input_shape, dataset.classes, lr=1), network)\n",
    "# Convert the adversaries\n",
    "for i in range(num_adversaries):\n",
    "    ymir.fritz.freerider.convert(network.clients[i], \"advanced delta\")\n",
    "# Perform the learning loop\n",
    "for r in (pbar := trange(500)):\n",
    "    loss = learner.step()\n",
    "    if r % 10 == 0:\n",
    "        metrics = learner.model.test_on_batch(*next(test_eval), return_dict=True)\n",
    "        pbar.set_postfix(metrics)"
   ]
  }
 ],
 "metadata": {
  "interpreter": {
   "hash": "e7370f93d1d0cde622a1f8e1c04877d8463912d04d973331ad4851f04de6915a"
  },
  "kernelspec": {
   "display_name": "Python 3.10.2 64-bit",
   "language": "python",
   "name": "python3"
  },
  "language_info": {
   "codemirror_mode": {
    "name": "ipython",
    "version": 3
   },
   "file_extension": ".py",
   "mimetype": "text/x-python",
   "name": "python",
   "nbconvert_exporter": "python",
   "pygments_lexer": "ipython3",
   "version": "3.10.2"
  },
  "orig_nbformat": 4
 },
 "nbformat": 4,
 "nbformat_minor": 2
}
